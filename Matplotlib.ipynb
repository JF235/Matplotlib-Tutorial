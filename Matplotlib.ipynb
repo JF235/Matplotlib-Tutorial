{
 "cells": [
  {
   "cell_type": "markdown",
   "id": "4cab9cd5",
   "metadata": {},
   "source": [
    "# Matplotlib"
   ]
  },
  {
   "cell_type": "code",
   "execution_count": 1,
   "id": "ebdf11e3",
   "metadata": {},
   "outputs": [],
   "source": [
    "import matplotlib as mpl\n",
    "import matplotlib.pyplot as plt\n",
    "import numpy as np"
   ]
  },
  {
   "cell_type": "markdown",
   "id": "a82adec7",
   "metadata": {},
   "source": [
    "# Comandos Básicos\n",
    "\n",
    "---"
   ]
  },
  {
   "cell_type": "markdown",
   "id": "3a918cd0",
   "metadata": {},
   "source": [
    "## `plt.subplots()`\n",
    "\n",
    "[plt.subplots](https://matplotlib.org/stable/api/_as_gen/matplotlib.pyplot.subplots.html#matplotlib.pyplot.subplots)\n",
    "\n",
    "Create a figure and a set of subplots.\n",
    "\n",
    "This utility wrapper makes it convenient to create common layouts of subplots, including the enclosing figure object, in a single call.\n",
    "    \n",
    "**Parameters**\n",
    "\n",
    "* `nrows`, `ncols`: *int*, default: 1\n",
    "\n",
    "    *Número de linhas/colunas da grade de subplots.*\n",
    "    \n",
    "    Number of rows/columns of the subplot grid.\n",
    "   \n",
    "* `sharex`, `sharey`: *bool* or {'none', 'all', 'row', 'col'}, default: False\n",
    "    \n",
    "    *Controla as propriedades compartilhadas entre os eixos x e y*\n",
    "    \n",
    "    Controls sharing of properties among x (sharex) or y (sharey) axe\n",
    "    \n",
    "* `squeeze`: *bool*, default: True\n",
    "\n",
    "    *Controla a dimensão de saída do array de axes.*\n",
    "    \n",
    "    * True, extra dimensions are squeezed out from the returned array of Axes\n",
    "    \n",
    "    * False, no squeezing at all is done: the returned Axes object is always a 2D array containing Axes instances, even if it ends up being 1x1\n",
    "\n",
    "* `subplot_kw`: *dict*\n",
    "\n",
    "    Dict with keywords passed to the add_subplot call used to create each subplot.\n",
    "    \n",
    "* `gridspec_kw`: *dict*\n",
    "\n",
    "    Dict with keywords passed to the GridSpec constructor used to create the grid the subplots are placed on.\n",
    "\n",
    "* `**fig_kw`\n",
    "\n",
    "    All additional keyword arguments are passed to the pyplot.figure call.\n",
    "\n",
    "**Returns**\n",
    "\n",
    "* `fig`: *Figure*\n",
    "\n",
    "* `ax`: *axes.Axes* or array of Axes\n",
    "\n",
    "    ax can be either a single Axes object or an array of Axes objects if more than one subplot was created."
   ]
  },
  {
   "cell_type": "markdown",
   "id": "6509b3bf",
   "metadata": {},
   "source": [
    "## `np.linspace()`\n",
    "\n",
    "[np.linspace](https://numpy.org/doc/stable/reference/generated/numpy.linspace.html)\n",
    "\n",
    "    Returns num evenly spaced samples, calculated over the interval [start, stop].\n",
    "\n",
    "    The endpoint of the interval can optionally be excluded.\n",
    "   \n",
    "**Parameters**\n",
    "\n",
    "* `start` *array_like*\n",
    "        The starting value of the sequence.\n",
    "* `stop` *array_like*\n",
    "    \n",
    "    The end value of the sequence, unless endpoint is set to False. In that case, the sequence consists of all but the last of num + 1 evenly spaced samples, so that stop is excluded. Note that the step size changes when endpoint is False.\n",
    "\n",
    "* `num` *int*, optional\n",
    "    \n",
    "    Number of samples to generate. Default is 50. Must be non-negative.\n",
    "\n",
    "* `endpoint` *bool*, optional\n",
    "    \n",
    "    If True, stop is the last sample. Otherwise, it is not included. Default is True.\n",
    "\n",
    "* `retstep` *bool*, optional\n",
    "   \n",
    "   If True, return (samples, step), where step is the spacing between samples."
   ]
  },
  {
   "cell_type": "markdown",
   "id": "2f28c945",
   "metadata": {},
   "source": [
    "\n",
    "## `Axes.plot()`\n",
    "\n",
    "[matplotlib.axes.Axes.plot](https://matplotlib.org/stable/api/_as_gen/matplotlib.axes.Axes.plot.html#matplotlib.axes.Axes.plot)\n",
    "    \n",
    "    Plot y versus x as lines and/or markers.\n",
    "    \n",
    "**Parameters**\n",
    "\n",
    "* `x`, `y`: *array-like* or scalar\n",
    "\n",
    "    The horizontal / vertical coordinates of the data points. x values are optional and default to range(len(y)).\n",
    "\n",
    "    Commonly, these parameters are 1D arrays.\n",
    "\n",
    "    They can also be scalars, or two-dimensional (in that case, the columns represent separate data sets).\n",
    "\n",
    "    These arguments cannot be passed as keywords.\n",
    "\n",
    "* `fmt`: *str*, optional\n",
    "\n",
    "    A format string, e.g. 'ro' for red circles. See the Notes section for a full description of the format strings.\n",
    "    \n",
    "    A format string consists of a part for color, marker and line:\n",
    "\n",
    "    `fmt = '[marker][line][color]'`\n",
    "\n",
    "\n",
    "    Format strings are just an abbreviation for quickly setting basic line properties. All of these and more can also be controlled by keyword arguments.\n",
    "\n",
    "    This argument cannot be passed as keyword.\n",
    "\n",
    "* `data`: *indexable object*, optional\n",
    "\n",
    "    An object with labelled data. If given, provide the label names to plot in x and y.\n",
    "    \n",
    "* `scalex`, `scaley`: bool, default: True\n",
    "\n",
    "    These parameters determine if the view limits are adapted to the data limits. The values are passed on to autoscale_view.\n",
    "    \n",
    "* `**kwargs:` *Line2D* properties, optional\n",
    "\n",
    "    kwargs are used to specify properties like a line label (for auto legends), linewidth, antialiasing, marker face color.\n",
    "    \n",
    "**Returns**\n",
    "\n",
    "* list of Line2D\n",
    "   \n",
    "A list of lines representing the plotted data.\n",
    "\n"
   ]
  },
  {
   "cell_type": "markdown",
   "id": "bd83122e",
   "metadata": {},
   "source": [
    "## Exemplo 1\n",
    "\n",
    "Plotando dados arbitrários."
   ]
  },
  {
   "cell_type": "code",
   "execution_count": 21,
   "id": "e95363cd",
   "metadata": {},
   "outputs": [
    {
     "data": {
      "image/png": "[encoded data removed]",
      "text/plain": [
       "<Figure size 432x288 with 1 Axes>"
      ]
     },
     "metadata": {
      "needs_background": "light"
     },
     "output_type": "display_data"
    }
   ],
   "source": [
    "xdata, ydata = ([1, 2, 3, 4], [1, 4, 2, 3])\n",
    "\n",
    "fig, ax = plt.subplots() # Create a figure containing a single axes.\n",
    "ax.plot(xdata, ydata);"
   ]
  },
  {
   "cell_type": "markdown",
   "id": "69a24cce",
   "metadata": {},
   "source": [
    "## Exemplo 2\n",
    "\n",
    "Plotando dados em comparação, com 3 linhas e 1 coluna. Todos os gráficos compartilham o eixo y e os gráficos de uma mesma coluna `'col'` compartilham o eixo x\n",
    "\n",
    "Nesse caso, os dados `y` dependem de um parâmetro de amortecimento."
   ]
  },
  {
   "cell_type": "code",
   "execution_count": 33,
   "id": "03bdb898",
   "metadata": {
    "scrolled": true
   },
   "outputs": [
    {
     "data": {
      "image/png": "[encoded data removed]",
      "text/plain": [
       "<Figure size 432x288 with 3 Axes>"
      ]
     },
     "metadata": {
      "needs_background": "light"
     },
     "output_type": "display_data"
    }
   ],
   "source": [
    "# First create some toy data:\n",
    "x = np.linspace(0, 2*np.pi, 400)\n",
    "y = lambda a: np.exp(-a*x)*np.sin(1.5*x)\n",
    "\n",
    "# Create just a figure and only one subplot\n",
    "fig, (ax1, ax2, ax3) = plt.subplots(nrows = 3, ncols = 1, sharey = True , sharex = 'col')\n",
    "ax1.plot(x, y(0)   )\n",
    "ax2.plot(x, y(0.2) )\n",
    "ax3.plot(x, y(1)   )\n",
    "\n",
    "ax1.set_title('Amortecimento de Oscilação'); \n",
    "\n",
    "# Observe que definir o título é um hack, pois para ficar bem formatado eu devo definir o título do primeiro ax."
   ]
  },
  {
   "cell_type": "markdown",
   "id": "3c683561",
   "metadata": {},
   "source": [
    "## Exemplo 3\n",
    "\n",
    "Plotando 4 funções com ordem de crescimento diferente. Em cada chamada de `ax.plot()` é passada uma string no lugar do terceiro argumento que representa a formatação `[marker][line][color]`. Além disso, é passado o kwarg ([keyword argument](https://docs.python.org/3/glossary.html#term-keyword-argument)) `label` para definir a string que será mostrada na chamada da legenda `ax.legend()`."
   ]
  },
  {
   "cell_type": "code",
   "execution_count": 34,
   "id": "dfe4001e",
   "metadata": {
    "scrolled": true
   },
   "outputs": [
    {
     "data": {
      "image/png": "[encoded data removed]",
      "text/plain": [
       "<Figure size 432x288 with 1 Axes>"
      ]
     },
     "metadata": {
      "needs_background": "light"
     },
     "output_type": "display_data"
    }
   ],
   "source": [
    "x = np.linspace( 1, 2, 30)\n",
    "y1 = np.log(x) # log\n",
    "y2 = x - 1       # linear\n",
    "y3 = x**2 - 1     # quadradic\n",
    "y4 = 2**x - 2      # exponential\n",
    "\n",
    "fig, ax = plt.subplots()\n",
    "ax.plot(x, y1, '^:k', label = 'Log')\n",
    "ax.plot(x, y2, '-or', label = 'Linear')\n",
    "ax.plot(x, y3, 's--b', label = 'Quadratic')\n",
    "ax.plot(x, y4, 'x-.g', label = 'Exponential')\n",
    "\n",
    "# Como dito na descrição de fmt, este não pode ser passado como kwarg\n",
    "ax.legend();"
   ]
  },
  {
   "cell_type": "markdown",
   "id": "c84ced93",
   "metadata": {},
   "source": [
    "# Adicionando Recursos"
   ]
  },
  {
   "cell_type": "markdown",
   "id": "38a908c6",
   "metadata": {},
   "source": [
    "## Título\n",
    "\n",
    "### `Axes.set_title()`\n",
    "\n",
    "[ax.set_title](https://matplotlib.org/stable/api/_as_gen/matplotlib.axes.Axes.set_title.html#matplotlib.axes.Axes.set_title)\n",
    "\n",
    "Set a title for the Axes.\n",
    "\n",
    "Set one of the three available Axes titles. The available titles are positioned above the Axes in the center, flush with the left edge, and flush with the right edge.\n",
    "\n",
    "**Parameters**\n",
    "\n",
    "* `label`: *str*\n",
    "\n",
    "    Text to use for the title\n",
    "\n",
    "* `fontdict`: *dict*\n",
    "\n",
    "    A dictionary controlling the appearance of the title text\n",
    "\n",
    "* `loc`: *{'center', 'left', 'right'}*\n",
    "\n",
    "    Which title to set.\n",
    "\n",
    "* `y`: *float* \n",
    "\n",
    "    Vertical Axes location for the title (1.0 is the top).\n",
    "\n",
    "* `pad`: *float*\n",
    "\n",
    "    The offset of the title from the top of the Axes, in points.\n",
    "\n",
    "* `**kwargs` \n",
    "\n",
    "    Other keyword arguments are text properties, see [Text](https://matplotlib.org/stable/api/text_api.html#matplotlib.text.Text) for a list of valid text properties.\n",
    "    \n",
    "**Returns**\n",
    "\n",
    "* *Text*\n",
    "\n",
    "The matplotlib text instance representing the title\n",
    "\n"
   ]
  },
  {
   "cell_type": "markdown",
   "id": "180dcb0f",
   "metadata": {},
   "source": [
    "## Rótulo dos Eixos\n",
    "\n",
    "### `Axes.set_xlabel()` ou `Axes.set_ylabel()`\n",
    "\n",
    "[set_xlabel](https://matplotlib.org/stable/api/_as_gen/matplotlib.axes.Axes.set_xlabel.html?) ou [set_ylabel](https://matplotlib.org/stable/api/_as_gen/matplotlib.axes.Axes.set_ylabel.html?)\n",
    "\n",
    "**Parameters**\n",
    "\n",
    "* `label`: *str*\n",
    "\n",
    "    The label text.\n",
    "\n",
    "* `labelpad`: *float*\n",
    "    \n",
    "    Spacing in points from the Axes bounding box including ticks and tick labels. If None, the previous value is left as is.\n",
    "    *\n",
    "* `loc`: y = *{'bottom', 'center', 'top'}*; x = *{'left', 'center', 'right'}*\n",
    "\n",
    "    The label position. This is a high-level alternative for passing parameters x/y and horizontalalignment.\n",
    "\n",
    "*  `**kwargs`: *Text* properties\n",
    "    \n",
    "    Text properties control the appearance of the label."
   ]
  },
  {
   "cell_type": "markdown",
   "id": "457fdf7d",
   "metadata": {},
   "source": [
    "## Marcação dos Eixos \n",
    "\n",
    "### `Axes.set_xticks()` ou `Axes.set_yticks()`\n",
    "\n",
    "[ax.set_xticks](https://matplotlib.org/stable/api/_as_gen/matplotlib.axes.Axes.set_xticks.html) ou [ax.set_yticks](https://matplotlib.org/stable/api/_as_gen/matplotlib.axes.Axes.set_yticks.html)\n",
    "\n",
    "Set the x/yaxis' tick locations and optionally labels.\n",
    "\n",
    "If necessary, the view limits of the Axis are expanded so that all given ticks are visible.\n",
    "\n",
    "**Parameters**\n",
    "\n",
    "* `ticks`: list of *floats*\n",
    "\n",
    "    List of tick locations.\n",
    "\n",
    "* `labels`: list of *str*\n",
    "    \n",
    "    List of tick labels. If not set, the labels show the data value\n",
    "    \n",
    "* `minor`: *bool*, default: False\n",
    "\n",
    "    If False, set the major ticks; if True, the minor ticks.\n",
    "    \n",
    "* `**kwargs`\n",
    "\n",
    "    Text properties"
   ]
  },
  {
   "cell_type": "markdown",
   "id": "511af8ff",
   "metadata": {},
   "source": [
    "## Legenda\n",
    "\n",
    "[ax.legend](https://matplotlib.org/stable/api/_as_gen/matplotlib.axes.Axes.legend.html#matplotlib.axes.Axes.legend)\n",
    "\n",
    "Normalmente as legendas são resolvidas de forma automática, pois os rótulos são atribuídos diretamente aos artistas, i.e., usando `line = plot(x,y, label = ...)` ou `line.set_label = ...` e nenhum parâmetro é necessário, mas em casos especiais pode ser que sejam necessários.\n",
    "\n",
    "**Parameters**\n",
    "\n",
    "* `handles`: sequence of *Artist*\n",
    "\n",
    "    A list of Artists (lines, patches) to be added to the legend. Use this together with labels, if you need full control on what is shown in the legend and the automatic mechanism is not sufficient.\n",
    "    \n",
    "    The length of handles and labels should be the same in this case. If they are not, they are truncated to the smaller length.\n",
    "\n",
    "* `labels`: list of *str*\n",
    "    \n",
    "    A list of labels to show next to the artists. \n",
    "    \n",
    "* `loc`: *str* or pair of *floats*\n",
    "\n",
    "    The location of the legend.\n",
    "    \n",
    "*  Outros vários parâmetros: como `bbox_to_anchor`, `ncol` (número de colunas), `prop` (dicionário de propriedades da fonte), `fontsize`, `labelcolor`, e outras opções de customização."
   ]
  },
  {
   "cell_type": "markdown",
   "id": "917ed3aa",
   "metadata": {},
   "source": [
    "## Anotações\n",
    "\n",
    "### `Axes.annotate`\n",
    "\n",
    "[ax.annotate](https://matplotlib.org/stable/api/_as_gen/matplotlib.axes.Axes.annotate.html)\n",
    "\n",
    "[Tutorial Anotações](https://matplotlib.org/stable/tutorials/text/annotations.html#plotting-guide-annotation)\n",
    "\n",
    "Annotate the point xy with text text.\n",
    "\n",
    "In the simplest form, the text is placed at xy.\n",
    "\n",
    "Optionally, the text can be displayed in another position xytext. An arrow pointing from the text to the annotated point xy can then be added by defining arrowprops.\n",
    "\n",
    "**Parameters**\n",
    "\n",
    "* `text`: *str*\n",
    "\n",
    "    The text of the annotation.\n",
    "\n",
    "* `xy`: *(float, float)*\n",
    "    \n",
    "    The point (x, y) to annotate. The coordinate system is determined by xycoords.\n",
    "    \n",
    "* `xytext`: *(float, float)*, default: `xy`\n",
    "\n",
    "    The position (x, y) to place the text at. The coordinate system is determined by textcoords.\n",
    "    \n",
    "* `xycoords`: *str*\n",
    "\n",
    "    The coordinate system that xy is given in.\n",
    "\n",
    "* `textcoords`: *str*\n",
    "    \n",
    "    The coordinate system that xytext is given in.\n",
    "\n",
    "* `arrowprops`: *dict*\n",
    "\n",
    "    The properties used to draw a FancyArrowPatch arrow between the positions xy and xytext. Defaults to None, i.e. no arrow is drawn.\n",
    "\n",
    "* `annotation_clip`: *bool*\n",
    "\n",
    "\n",
    "\n",
    "* `**kwargs` \n",
    "    \n",
    "    passed to *Text*"
   ]
  },
  {
   "cell_type": "markdown",
   "id": "54198b3d",
   "metadata": {},
   "source": [
    "## Texto\n",
    "\n",
    "### `Axes.text()`\n",
    "\n",
    "[ax.text](https://matplotlib.org/stable/api/_as_gen/matplotlib.axes.Axes.text.html)\n",
    "\n",
    "\n",
    "**Parameters**\n",
    "\n",
    "* `x`, `y`: *float*\n",
    "\n",
    "    The position to place the text. By default, this is in data coordinates. The coordinate system can be changed using the transform parameter.\n",
    "\n",
    "* `s`: *str*\n",
    "    \n",
    "    The text \n",
    "    \n",
    "* `fontdict`: *dict*\n",
    "\n",
    "    A dictionary to override the default text properties. If fontdict is None, the defaults are determined by `rcParams` (rc = runtime configuration).\n",
    "    \n",
    "* `**kwargs`: *Text* Properties"
   ]
  },
  {
   "cell_type": "markdown",
   "id": "a7cbd767",
   "metadata": {},
   "source": [
    "## `plt.tight_layout()`\n",
    "\n",
    "[plt.tight_layout](https://matplotlib.org/stable/api/_as_gen/matplotlib.pyplot.tight_layout.html#matplotlib.pyplot.tight_layout)\n",
    "\n",
    "[Tight Layout Guide](https://matplotlib.org/stable/tutorials/intermediate/tight_layout_guide.html#sphx-glr-tutorials-intermediate-tight-layout-guide-py) - Um guia descrevendo  o uso de `tight_layout`\n",
    "\n",
    "    Adjust the padding between and around subplots.\n",
    "    \n",
    "    *Deve ser chamado por último, pois este leva em consideração todos os elementos que compõem os subplots, como legendas e títulos.*\n",
    "    \n",
    "    \n",
    "**Parameters**\n",
    "\n",
    "* `pad` *float*, default: 1.08\n",
    "\n",
    "        Padding between the figure edge and the edges of subplots, as a fraction of the font size.\n",
    "\n",
    "* `h_pad`, `w_pad` *float*, default: pad\n",
    "\n",
    "        Padding (height/width) between edges of adjacent subplots, as a fraction of the font size.\n",
    "        \n",
    "    *Preenchimento entre os espaços horizontais (entre linhas) h_pad e o preenchimento entre os espaços verticais (entre colunas) w_pad*\n",
    "\n",
    "* `rect` *tuple* (left, bottom, right, top), default: (0, 0, 1, 1)\n",
    "\n",
    "        A rectangle in normalized figure coordinates into which the whole subplots area (including labels) will fit."
   ]
  },
  {
   "cell_type": "markdown",
   "id": "6d714b62",
   "metadata": {},
   "source": [
    "## Exemplo 4\n",
    "\n",
    "Apanhadão de gráficos com diversas customizações. \n",
    "\n",
    "* O primeiro representa uma curva gaussiana.\n",
    "\n",
    "* O segundo é a função erro (função de densidade acumulada)\n",
    "\n",
    "* O terceiro é o gráfico de duas ondas\n",
    "\n",
    "* Gráfico das Funcções Trigonométricas Hiperbólicas\n"
   ]
  },
  {
   "cell_type": "code",
   "execution_count": 50,
   "id": "1f0b83fc",
   "metadata": {},
   "outputs": [
    {
     "data": {
      "image/png": "[encoded data removed]",
      "text/plain": [
       "<Figure size 576x432 with 4 Axes>"
      ]
     },
     "metadata": {
      "needs_background": "light"
     },
     "output_type": "display_data"
    }
   ],
   "source": [
    "# Aqui é passado figsize que é um `**kwarg` de *Figure*\n",
    "# figsize = tuple -> Figure dimension (width, height) in inches.\n",
    "fig, ((ax1, ax2), (ax3, ax4)) = plt.subplots(nrows = 2, ncols = 2, figsize = (8,6))\n",
    "\n",
    "from math import erf\n",
    "\n",
    "# Aqui vou mostrar como plotar dados rotulados usando um dicionário\n",
    "x = np.linspace(-5, 5, 100)\n",
    "g = lambda x: 1/(np.sqrt(2*np.pi)) * np.exp(-x**2/2)\n",
    "data = {'gaussian': g(x), 'erf': list(map(erf, x)), 'cos': np.cos(x), 'cosh': np.cosh(x),  'x_vals': x, 'sin': np.sin(x)}\n",
    "\n",
    "#=======================================================\n",
    "\n",
    "# Passo os rótulos e passo o parâmetro data\n",
    "ax1.plot('x_vals', 'gaussian', data = data)\n",
    "\n",
    "P1 = (-1, g(-1))\n",
    "Q1 = (1, g(1))\n",
    "\n",
    "# Desenhando intervalo de 1 desvio padrão\n",
    "\n",
    "# Truque para desenhar linhas (simplesmente usar plot)\n",
    "# o parâmetro color e alpha são `**kwarg`s que alteram propriedades do objeto Line2D e 'tab:blue' é uma cor reconhecida pela biblioteca\n",
    "ax1.plot([-1, -1], [g(-1), 0], color = 'tab:blue', alpha = .5)\n",
    "ax1.plot([1, 1], [g(1), 0], color = 'tab:blue', alpha = .5)\n",
    "\n",
    "# Anotações\n",
    "ax1.annotate(\n",
    "    text = r'$-\\sigma$',\n",
    "    xy = P1, xycoords= 'data',\n",
    "    xytext = (-30, 30), textcoords = 'offset points',\n",
    "    arrowprops = dict(arrowstyle = '->',\n",
    "                     connectionstyle = 'angle'),\n",
    "    ha = 'center'\n",
    ")\n",
    "ax1.annotate(\n",
    "    text = r'$+\\sigma$',\n",
    "    xy = Q1, xycoords= 'data',\n",
    "    xytext = (30, 30), textcoords = 'offset points',\n",
    "    arrowprops = dict(arrowstyle = '->',\n",
    "                     connectionstyle = 'angle3'),\n",
    "    ha = 'center'\n",
    ")\n",
    "ax1.annotate(\n",
    "    text = r'$\\mu$',\n",
    "    xy = (0, 0), xycoords= 'data',\n",
    "    xytext = (10, 20), textcoords = 'offset points',\n",
    "    arrowprops = dict(arrowstyle = '->',\n",
    "                     connectionstyle = 'arc3,rad = 0.9',\n",
    "                     ),\n",
    "    ha = 'center'\n",
    ")\n",
    "\n",
    "\n",
    "#Ticks\n",
    "ax1.set_xticks(np.linspace(-5, 5, 11), minor = True)\n",
    "\n",
    "ax1.set_title('Gaussian')\n",
    "ax1.set_xlabel('Data')\n",
    "\n",
    "#=======================================================\n",
    "\n",
    "# Veja que aqui x é um np.array() e o valor de 'erf' é uma list, ele não se importa\n",
    "ax2.plot('x_vals', 'erf', data = data)\n",
    "ax2.set_title('Error Function')\n",
    "ax2.set_ylabel('Cummulative Density')\n",
    "\n",
    "\n",
    "#=======================================================\n",
    "\n",
    "# Plotando dois conjuntos de dados\n",
    "ax3.plot('x_vals', 'cos', data = data, label = 'cos')\n",
    "ax3.plot('x_vals', 'sin', data = data, label = 'sin')\n",
    "\n",
    "# Título\n",
    "ax3.set_title('Cos & Sin')\n",
    "\n",
    "# Ticks nos eixos\n",
    "ax3.set_xticks(np.linspace(-3*np.pi/2, 3*np.pi/2, 7))\n",
    "ax3.set_xticklabels([r'$-\\dfrac{3\\pi}{2}$', r'$-\\pi$', r'$-\\dfrac{\\pi}{2}$', \n",
    "                     r'$0$', r'$\\dfrac{\\pi}{2}$', r'$\\pi$',\n",
    "                    r'$\\dfrac{3\\pi}{2}$'])\n",
    "\n",
    "# Anotação e Texto\n",
    "ax3.annotate('', xy = (-np.pi, np.cos(-np.pi)), xytext = (np.pi, np.cos(np.pi)),\n",
    "            arrowprops = {'arrowstyle': '<|-|>', 'facecolor':'black', 'mutation_scale':15})\n",
    "ax3.text(0, -1 + 0.05, '$T = 2\\pi$', ha = 'center', va = 'bottom')\n",
    "\n",
    "# Legenda\n",
    "ax3.legend()\n",
    "\n",
    "#======================================================\n",
    "\n",
    "ax4.plot('x_vals', 'cosh', data = data)\n",
    "ax4.set_title('Vmin = 1', y = 0, loc = 'left')\n",
    "ax4.set_title('Cosh', y = 0.5, loc = 'center')\n",
    "ax4.set_title('Cosh(0)=1', y = 1,  loc = 'right')\n",
    "\n",
    "\n",
    "# Aqui as coordenadas xy [ponto anotado] são as coordenadas `data` dados do ponto gráfico\n",
    "# e as coordenadas do texto são dadas como um deslocamento do ponto xy\n",
    "ax4.annotate('Ponto mínimo', xy = (0,np.cosh(0)), xytext = (5, 40), \n",
    "             xycoords = 'data', textcoords = 'offset points',\n",
    "             arrowprops={'facecolor':'black'})\n",
    "\n",
    "plt.tight_layout()"
   ]
  },
  {
   "cell_type": "markdown",
   "id": "5aa132d9",
   "metadata": {},
   "source": [
    "## Exemplo 5\n",
    "\n",
    "O método científico"
   ]
  },
  {
   "cell_type": "markdown",
   "id": "4a731a64",
   "metadata": {},
   "source": [
    "## Uma pitadinha de coordenadas polares (ou seja, Transforms), com axis, grids, spines, generalidades de xticks e yticks em outras coordenads\n",
    "\n",
    "[Transformations Tutorial](https://matplotlib.org/stable/tutorials/advanced/transforms_tutorial.html)"
   ]
  },
  {
   "cell_type": "markdown",
   "id": "4a7391e2",
   "metadata": {},
   "source": [
    "## bbox, get_window_extent, display_space"
   ]
  },
  {
   "cell_type": "markdown",
   "id": "76bc78e0",
   "metadata": {},
   "source": [
    "## xlim, ylim"
   ]
  },
  {
   "cell_type": "markdown",
   "id": "b3e4d542",
   "metadata": {},
   "source": [
    "# WTF CARAL"
   ]
  },
  {
   "cell_type": "markdown",
   "id": "2a6e971d",
   "metadata": {},
   "source": [
    "https://matplotlib.org/stable/api/_as_gen/matplotlib.patches.FancyArrowPatch.html#matplotlib.patches.FancyArrowPatch"
   ]
  },
  {
   "cell_type": "code",
   "execution_count": 436,
   "id": "09d7e06b",
   "metadata": {},
   "outputs": [
    {
     "data": {
      "text/plain": [
       "<matplotlib.patches.Arc at 0x7f0c5496fa30>"
      ]
     },
     "execution_count": 436,
     "metadata": {},
     "output_type": "execute_result"
    },
    {
     "data": {
      "image/png": "[encoded data removed]",
      "text/plain": [
       "<Figure size 288x288 with 1 Axes>"
      ]
     },
     "metadata": {
      "needs_background": "light"
     },
     "output_type": "display_data"
    }
   ],
   "source": [
    "from math import radians, degrees\n",
    "import matplotlib.patches as patches\n",
    "\n",
    "fig = plt.figure(figsize = (4,4))\n",
    "ax = fig.add_subplot()\n",
    "\n",
    "ax.axis('off')\n",
    "\n",
    "ax.set_xlim(-1.2, 2)\n",
    "ax.set_ylim(-1, 1.4)\n",
    "ax.plot()\n",
    "r = 1\n",
    "theta = np.array([radians(90), radians(210), radians(330)])\n",
    "x = r * np.cos(theta)\n",
    "y = r * np.sin(theta)\n",
    "txt = ['observations', 'prediction', 'hypothesis']\n",
    "\n",
    "textos = []\n",
    "data_to_disp = ax.transData.transform\n",
    "disp_to_data = ax.transData.inverted().transform\n",
    "    \n",
    "points = [0]*3\n",
    "for i in range(3):\n",
    "    t = ax.text(x[i], y[i], txt[i], bbox = dict(facecolor = 'none', edgecolor = 'black') )\n",
    "    textos.append(t)\n",
    "\n",
    "arc = patches.Arc((.5,.45), width = .8, height = .8,angle = 360, transform = ax.transAxes)\n",
    "ax.add_patch(arc)"
   ]
  },
  {
   "cell_type": "code",
   "execution_count": 415,
   "id": "4079dca7",
   "metadata": {},
   "outputs": [
    {
     "name": "stdout",
     "output_type": "stream",
     "text": [
      "Path(array([[ 6.12323400e-17,  1.00000000e+00],\n",
      "       [-2.11539281e-02,  9.99776231e-01],\n",
      "       [-4.22983890e-02,  9.99105023e-01],\n",
      "       [-6.34239197e-02,  9.97986676e-01],\n",
      "       [-8.45210657e-02,  9.96421693e-01],\n",
      "       [-1.05580385e-01,  9.94410771e-01],\n",
      "       [-1.26592454e-01,  9.91954813e-01],\n",
      "       [-1.47547867e-01,  9.89054916e-01],\n",
      "       [-1.68437247e-01,  9.85712379e-01],\n",
      "       [-1.89251244e-01,  9.81928697e-01],\n",
      "       [-2.09980545e-01,  9.77705564e-01],\n",
      "       [-2.30615871e-01,  9.73044871e-01],\n",
      "       [-2.51147987e-01,  9.67948701e-01],\n",
      "       [-2.71567705e-01,  9.62419338e-01],\n",
      "       [-2.91865886e-01,  9.56459254e-01],\n",
      "       [-3.12033446e-01,  9.50071118e-01],\n",
      "       [-3.32061358e-01,  9.43257788e-01],\n",
      "       [-3.51940661e-01,  9.36022314e-01],\n",
      "       [-3.71662456e-01,  9.28367933e-01],\n",
      "       [-3.91217917e-01,  9.20298072e-01],\n",
      "       [-4.10598294e-01,  9.11816342e-01],\n",
      "       [-4.29794912e-01,  9.02926538e-01],\n",
      "       [-4.48799180e-01,  8.93632640e-01],\n",
      "       [-4.67602593e-01,  8.83938807e-01],\n",
      "       [-4.86196736e-01,  8.73849377e-01],\n",
      "       [-5.04573287e-01,  8.63368866e-01],\n",
      "       [-5.22724022e-01,  8.52501963e-01],\n",
      "       [-5.40640817e-01,  8.41253533e-01],\n",
      "       [-5.58315655e-01,  8.29628609e-01],\n",
      "       [-5.75740625e-01,  8.17632394e-01],\n",
      "       [-5.92907929e-01,  8.05270258e-01],\n",
      "       [-6.09809884e-01,  7.92547731e-01],\n",
      "       [-6.26438924e-01,  7.79470509e-01],\n",
      "       [-6.42787610e-01,  7.66044443e-01],\n",
      "       [-6.58848623e-01,  7.52275543e-01],\n",
      "       [-6.74614775e-01,  7.38169970e-01],\n",
      "       [-6.90079011e-01,  7.23734038e-01],\n",
      "       [-7.05234411e-01,  7.08974207e-01],\n",
      "       [-7.20074190e-01,  6.93897082e-01],\n",
      "       [-7.34591709e-01,  6.78509412e-01],\n",
      "       [-7.48780469e-01,  6.62818082e-01],\n",
      "       [-7.62634121e-01,  6.46830115e-01],\n",
      "       [-7.76146464e-01,  6.30552667e-01],\n",
      "       [-7.89311452e-01,  6.13993022e-01],\n",
      "       [-8.02123193e-01,  5.97158592e-01],\n",
      "       [-8.14575952e-01,  5.80056910e-01],\n",
      "       [-8.26664157e-01,  5.62695629e-01],\n",
      "       [-8.38382398e-01,  5.45082521e-01],\n",
      "       [-8.49725430e-01,  5.27225468e-01],\n",
      "       [-8.60688177e-01,  5.09132460e-01],\n",
      "       [-8.71265733e-01,  4.90811596e-01],\n",
      "       [-8.81453363e-01,  4.72271075e-01],\n",
      "       [-8.91246510e-01,  4.53519194e-01],\n",
      "       [-9.00640788e-01,  4.34564346e-01],\n",
      "       [-9.09631995e-01,  4.15415013e-01],\n",
      "       [-9.18216107e-01,  3.96079766e-01],\n",
      "       [-9.26389281e-01,  3.76567258e-01],\n",
      "       [-9.34147860e-01,  3.56886222e-01],\n",
      "       [-9.41488372e-01,  3.37045465e-01],\n",
      "       [-9.48407531e-01,  3.17053867e-01],\n",
      "       [-9.54902241e-01,  2.96920375e-01],\n",
      "       [-9.60969596e-01,  2.76654000e-01],\n",
      "       [-9.66606879e-01,  2.56263812e-01],\n",
      "       [-9.71811568e-01,  2.35758936e-01],\n",
      "       [-9.76581334e-01,  2.15148548e-01],\n",
      "       [-9.80914042e-01,  1.94441873e-01],\n",
      "       [-9.84807753e-01,  1.73648178e-01],\n",
      "       [-9.88260724e-01,  1.52776768e-01],\n",
      "       [-9.91271411e-01,  1.31836985e-01],\n",
      "       [-9.93838464e-01,  1.10838200e-01],\n",
      "       [-9.95960737e-01,  8.97898103e-02],\n",
      "       [-9.97637279e-01,  6.87012363e-02],\n",
      "       [-9.98867339e-01,  4.75819158e-02],\n",
      "       [-9.99650368e-01,  2.64413006e-02],\n",
      "       [-9.99986014e-01,  5.28885186e-03],\n",
      "       [-9.99874128e-01, -1.58659638e-02],\n",
      "       [-9.99314759e-01, -3.70136789e-02],\n",
      "       [-9.98308158e-01, -5.81448289e-02],\n",
      "       [-9.96854776e-01, -7.92499569e-02],\n",
      "       [-9.94955262e-01, -1.00319617e-01],\n",
      "       [-9.92610468e-01, -1.21344381e-01],\n",
      "       [-9.89821442e-01, -1.42314838e-01],\n",
      "       [-9.86589432e-01, -1.63221604e-01],\n",
      "       [-9.82915886e-01, -1.84055322e-01],\n",
      "       [-9.78802446e-01, -2.04806668e-01],\n",
      "       [-9.74250955e-01, -2.25466355e-01],\n",
      "       [-9.69263448e-01, -2.46025137e-01],\n",
      "       [-9.63842159e-01, -2.66473814e-01],\n",
      "       [-9.57989512e-01, -2.86803233e-01],\n",
      "       [-9.51708129e-01, -3.07004296e-01],\n",
      "       [-9.45000819e-01, -3.27067963e-01],\n",
      "       [-9.37870584e-01, -3.46985255e-01],\n",
      "       [-9.30320616e-01, -3.66747257e-01],\n",
      "       [-9.22354294e-01, -3.86345126e-01],\n",
      "       [-9.13975182e-01, -4.05770090e-01],\n",
      "       [-9.05187032e-01, -4.25013456e-01],\n",
      "       [-8.95993774e-01, -4.44066613e-01],\n",
      "       [-8.86399525e-01, -4.62921032e-01],\n",
      "       [-8.76408578e-01, -4.81568276e-01],\n",
      "       [-8.66025404e-01, -5.00000000e-01]]), None)\n"
     ]
    },
    {
     "data": {
      "text/plain": [
       "Text(-0.5067064073686678, -0.3675496688741724, '')"
      ]
     },
     "execution_count": 415,
     "metadata": {},
     "output_type": "execute_result"
    },
    {
     "data": {
      "image/png": "[encoded data removed]",
      "text/plain": [
       "<Figure size 288x288 with 1 Axes>"
      ]
     },
     "metadata": {
      "needs_background": "light"
     },
     "output_type": "display_data"
    }
   ],
   "source": [
    "from math import radians, degrees\n",
    "import matplotlib.path as path\n",
    "\n",
    "fig = plt.figure(figsize = (4,4))\n",
    "ax = fig.add_subplot()\n",
    "\n",
    "ax.axis('off')\n",
    "\n",
    "ax.set_xlim(-1.2, 2)\n",
    "ax.set_ylim(-1, 1.4)\n",
    "ax.plot()\n",
    "r = 1\n",
    "theta = np.array([radians(90), radians(210), radians(330)])\n",
    "x = r * np.cos(theta)\n",
    "y = r * np.sin(theta)\n",
    "txt = ['observations', 'prediction', 'hypothesis']\n",
    "\n",
    "textos = []\n",
    "data_to_disp = ax.transData.transform\n",
    "disp_to_data = ax.transData.inverted().transform\n",
    "    \n",
    "points = [0]*3\n",
    "for i in range(3):\n",
    "    t = ax.text(x[i], y[i], txt[i], bbox = dict(facecolor = 'none', edgecolor = 'black') )\n",
    "    textos.append(t)\n",
    "    bb = t.get_window_extent(renderer=fig.canvas.get_renderer())\n",
    "    \n",
    "    low_left = np.array(bb.get_points()[0])\n",
    "    up_right = np.array(bb.get_points()[1])\n",
    "    center = (low_left + up_right)/2\n",
    "    \n",
    "    height = up_right[1]- low_left[1]\n",
    "    width = abs(up_right[0]- low_left[0])\n",
    "    \n",
    "    pad = 0.4\n",
    "    dispx = np.array([0.4 * height, 0]) \n",
    "    dispy = np.array([0, 0.4 * height]) \n",
    "    \n",
    "    points[i] = dict(    \n",
    "        left = np.array([low_left[0], center[1]]) - dispx,\n",
    "        right = np.array([up_right[0], center[1]]) + dispx,\n",
    "        top = np.array([center[0], up_right[1]]) + dispy ,\n",
    "        bottom = np.array([center[0], low_left[1]]) - dispy,\n",
    "    )\n",
    "    \n",
    "    # aplica a função em cada valor do dicionário\n",
    "    map_to_dict_values = lambda dic, func: {key: func(dic[key]) for key in dic}\n",
    "    points[i] = map_to_dict_values(points[i], disp_to_data)\n",
    "\n",
    "    \n",
    "obs = points[0]\n",
    "pred = points[1]\n",
    "hyp = points[2]\n",
    "dt = np.linspace(radians(90), radians(210), 100)\n",
    "x = r * np.cos(dt)\n",
    "y = r * np.sin(dt)\n",
    "\n",
    "a = list(zip(x, y))\n",
    "p = path.Path(a)\n",
    "print(p)\n",
    "props = dict(color = '#004a8e')\n",
    "ax.annotate('', xy = hyp['top'], xytext = obs['right'], arrowprops = props)\n",
    "ax.annotate('', xy = pred['bottom'], xytext = hyp['bottom'], arrowprops = props)\n",
    "ax.annotate('', xy = obs['left'], xytext = pred['top'], arrowprops = props)"
   ]
  },
  {
   "cell_type": "code",
   "execution_count": 369,
   "id": "530c5002",
   "metadata": {},
   "outputs": [],
   "source": [
    "d = {'a': 1, 'b': 3}"
   ]
  },
  {
   "cell_type": "code",
   "execution_count": 372,
   "id": "ce66dd0a",
   "metadata": {},
   "outputs": [
    {
     "data": {
      "text/plain": [
       "{'a': 2, 'b': 6}"
      ]
     },
     "execution_count": 372,
     "metadata": {},
     "output_type": "execute_result"
    }
   ],
   "source": [
    "{key: 2*d[key] for key in d}"
   ]
  },
  {
   "cell_type": "code",
   "execution_count": null,
   "id": "d6626dd7",
   "metadata": {},
   "outputs": [],
   "source": []
  }
 ],
 "metadata": {
  "kernelspec": {
   "display_name": "Python 3 (ipykernel)",
   "language": "python",
   "name": "python3"
  },
  "language_info": {
   "codemirror_mode": {
    "name": "ipython",
    "version": 3
   },
   "file_extension": ".py",
   "mimetype": "text/x-python",
   "name": "python",
   "nbconvert_exporter": "python",
   "pygments_lexer": "ipython3",
   "version": "3.8.10"
  }
 },
 "nbformat": 4,
 "nbformat_minor": 5
}
